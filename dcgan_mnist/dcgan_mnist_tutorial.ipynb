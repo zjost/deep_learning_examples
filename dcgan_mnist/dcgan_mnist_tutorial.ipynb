{
 "cells": [
  {
   "cell_type": "markdown",
   "metadata": {},
   "source": [
    "# DC-GAN on MNIST dataset\n",
    "- [Github](https://github.com/zsdonghao/dcgan) repo\n",
    "- [Blog post](http://bamos.github.io/2016/08/09/deep-completion/) tutorial\n",
    "- [Paper](https://arxiv.org/pdf/1511.06434.pdf)\n",
    "\n",
    "## Architecture guidelines for stable Deep Convolutional GANs\n",
    "- Replace any pooling layers with strided convolutions (discriminator) and fractional-strided\n",
    "convolutions (generator).\n",
    "- Use batchnorm in both the generator and the discriminator.\n",
    "- Remove fully connected hidden layers for deeper architectures.\n",
    "- Use ReLU activation in generator for all layers except for the output, which uses Tanh.\n",
    "- Use LeakyReLU activation in the discriminator for all layers.\n",
    "\n",
    "### Notes\n",
    "The inverse of convolution is transposed convolution.  It can be [shown](https://arxiv.org/abs/1603.07285) that transpose convolutions can be computed using the same kernal as the non-transposed convolution by manipulating the input space (i.e. adding or subtracting zero-padding).  \n",
    "\n",
    "More specific to this application, the GAN architecture is trying to pretend the noise input is the high-level feature representations and wants to reverse a normal CNN architecture by going backwards through all the convolutions.  Normal CNNs move a kernal across an input to reduce dimensionality and we want our GAN to do the opposite:  to take high-level features and increase dimensionality to recover the image.  This is acheived by \"fractional striding\".  \n",
    "\n",
    "A stride of 1 means the convolution moves one-pixel at a time.  A stride of 2 means the kernal skips a pixel and makes jumps of 2 at a time.  A fractional stride adds zeros between the pixels to effectively go slower than a stride of 1.\n",
    "\n",
    "![title](img/gan-architecture.png)"
   ]
  },
  {
   "cell_type": "code",
   "execution_count": 4,
   "metadata": {
    "collapsed": true
   },
   "outputs": [],
   "source": [
    "import os\n",
    "\n",
    "import numpy as np\n",
    "import matplotlib.pyplot as plt\n",
    "import matplotlib.gridspec as gridspec\n",
    "%matplotlib inline\n",
    "\n",
    "import tensorflow as tf\n",
    "from tensorflow.contrib.layers import xavier_initializer, batch_norm, flatten, fully_connected\n",
    "from tensorflow.examples.tutorials.mnist import input_data"
   ]
  },
  {
   "cell_type": "code",
   "execution_count": 5,
   "metadata": {
    "collapsed": true
   },
   "outputs": [],
   "source": [
    "N_input = 100"
   ]
  },
  {
   "cell_type": "code",
   "execution_count": 6,
   "metadata": {
    "collapsed": true
   },
   "outputs": [],
   "source": [
    "def lrelu(x, leak=0.2, name=\"lrelu\"):\n",
    "    with tf.variable_scope(name):\n",
    "        f1 = 0.5 * (1 + leak)\n",
    "        f2 = 0.5 * (1 - leak)\n",
    "        return f1 * x + f2 * abs(x)"
   ]
  },
  {
   "cell_type": "code",
   "execution_count": 7,
   "metadata": {
    "collapsed": true
   },
   "outputs": [],
   "source": [
    "def generator(z):\n",
    "    # Generator Net\n",
    "    # Input noise\n",
    "    with tf.variable_scope(\"g_conv1\") as scope:\n",
    "        # Top level Conv Filters\n",
    "        # Use matrix multiplication and reshape into stack of 7x7x512 filters\n",
    "        G_W1 = tf.get_variable(\"G_W1\", shape=[N_input, 7*7*512], initializer=xavier_initializer())\n",
    "        G_b1 = tf.Variable(tf.zeros(shape=[7*7*512]), name='G_b1')\n",
    "        z_ = tf.matmul(z, G_W1) + G_b1\n",
    "        h0 = tf.reshape(z_, [-1, 7, 7, 512]) # 1st dimension is number of samples\n",
    "        a0 = batch_norm(h0, activation_fn=tf.nn.relu)\n",
    "    \n",
    "    with tf.variable_scope(\"g_conv2\") as scope:\n",
    "        # Transpose-conv 1 (14x14x256)\n",
    "        t_conv1 = tf.layers.conv2d_transpose(\n",
    "            a0,\n",
    "            filters=256,\n",
    "            kernel_size=(5,5),\n",
    "            strides=(2, 2),\n",
    "            padding='same',\n",
    "        )\n",
    "        t_conv1_a = batch_norm(t_conv1, activation_fn=tf.nn.relu)\n",
    "\n",
    "    with tf.variable_scope(\"g_conv3\") as scope:\n",
    "        # Transpose-conv 2 (28x28x128)\n",
    "        t_conv2 = tf.layers.conv2d_transpose(\n",
    "            t_conv1_a,\n",
    "            filters=128,\n",
    "            kernel_size=(5,5),\n",
    "            strides=(2, 2),\n",
    "            padding='same',\n",
    "        )\n",
    "        t_conv2_a = batch_norm(t_conv2, activation_fn=tf.nn.relu)\n",
    "\n",
    "    with tf.variable_scope(\"g_out\") as scope:\n",
    "        # Transpose-conv 4 (28x28x1)\n",
    "        g_out = tf.layers.conv2d_transpose(\n",
    "            t_conv2_a,\n",
    "            filters=1,\n",
    "            kernel_size=(5,5),\n",
    "            strides=(1, 1),\n",
    "            padding='same',\n",
    "            activation=tf.nn.tanh,\n",
    "        )\n",
    "    \n",
    "    return g_out"
   ]
  },
  {
   "cell_type": "code",
   "execution_count": 8,
   "metadata": {
    "collapsed": true
   },
   "outputs": [],
   "source": [
    "def discriminator(x, reuse=False):\n",
    "    # Discriminator Net\n",
    "    # Input noise\n",
    "    with tf.variable_scope(\"d_conv1\") as scope:\n",
    "        # Conv 1 (28x28x128)\n",
    "        conv1 = tf.layers.conv2d(\n",
    "            x,\n",
    "            filters=128,\n",
    "            kernel_size=(5,5),\n",
    "            strides=(1,1),\n",
    "            padding='same',\n",
    "            reuse=reuse,\n",
    "        )\n",
    "        conv1_a = batch_norm(conv1, activation_fn=lrelu, reuse=reuse, scope=scope)\n",
    "        \n",
    "    with tf.variable_scope(\"d_conv2\") as scope:\n",
    "        # Conv 2 (14x14x256)\n",
    "        conv2 = tf.layers.conv2d(\n",
    "            conv1_a,\n",
    "            filters=256,\n",
    "            kernel_size=(5,5),\n",
    "            strides=(2,2),\n",
    "            padding='same',\n",
    "            reuse=reuse,\n",
    "        )\n",
    "        conv2_a = batch_norm(conv2, activation_fn=lrelu, reuse=reuse, scope=scope)\n",
    "    \n",
    "    with tf.variable_scope(\"d_conv3\") as scope:\n",
    "        # Conv 3 (7x7x512)\n",
    "        conv3 = tf.layers.conv2d(\n",
    "            conv2_a,\n",
    "            filters=512,\n",
    "            kernel_size=(5,5),\n",
    "            strides=(2,2),\n",
    "            padding='same',\n",
    "            reuse=reuse,\n",
    "            #scope=scope\n",
    "        )\n",
    "        conv3_a = batch_norm(conv3, activation_fn=lrelu, reuse=reuse, scope=scope)\n",
    "    \n",
    "    with tf.variable_scope(\"d_out\") as scope:    \n",
    "        # Output (1)\n",
    "        d_out = tf.nn.sigmoid(flatten(conv3_a))\n",
    "    \n",
    "    return d_out"
   ]
  },
  {
   "cell_type": "code",
   "execution_count": 9,
   "metadata": {},
   "outputs": [],
   "source": [
    "tf.reset_default_graph()\n",
    "\n",
    "Z = tf.placeholder(tf.float32, shape=[None, N_input], name='Z')\n",
    "X = tf.placeholder(tf.float32, shape=[None,28,28,1], name='X')\n",
    "\n",
    "Gz = generator(Z) #Generates images from random z vectors\n",
    "Dx = discriminator(X)\n",
    "Dg = discriminator(Gz, reuse=True)\n",
    "\n",
    "\n",
    "#These functions together define the optimization objective of the GAN.\n",
    "d_loss = -tf.reduce_mean(tf.log(Dx) + tf.log(1.-Dg)) #This optimizes the discriminator.\n",
    "g_loss = -tf.reduce_mean(tf.log(Dg)) #This optimizes the generator.\n",
    "\n",
    "tvars = tf.trainable_variables() # First 15 are for generator\n",
    "theta_G = tvars[:12]\n",
    "theta_D = tvars[12:]\n",
    "\n",
    "#The below code is responsible for applying gradient descent to update the GAN.\n",
    "# Only update D(X)'s parameters, so var_list = theta_D\n",
    "D_solver = tf.train.AdamOptimizer(learning_rate=0.0002,beta1=0.5).minimize(d_loss, var_list=theta_D)\n",
    "# Only update G(X)'s parameters, so var_list = theta_G\n",
    "G_solver = tf.train.AdamOptimizer(learning_rate=0.0002,beta1=0.5).minimize(g_loss, var_list=theta_G)"
   ]
  },
  {
   "cell_type": "code",
   "execution_count": 10,
   "metadata": {},
   "outputs": [
    {
     "name": "stdout",
     "output_type": "stream",
     "text": [
      "Extracting ../../MNIST_data/train-images-idx3-ubyte.gz\n",
      "Extracting ../../MNIST_data/train-labels-idx1-ubyte.gz\n",
      "Extracting ../../MNIST_data/t10k-images-idx3-ubyte.gz\n",
      "Extracting ../../MNIST_data/t10k-labels-idx1-ubyte.gz\n"
     ]
    }
   ],
   "source": [
    "mb_size = 128\n",
    "\n",
    "mnist = input_data.read_data_sets('../../MNIST_data', one_hot=True)"
   ]
  },
  {
   "cell_type": "code",
   "execution_count": 11,
   "metadata": {
    "collapsed": true
   },
   "outputs": [],
   "source": [
    "dir_name = 'out_v1/'\n",
    "if not os.path.exists(dir_name):\n",
    "    os.makedirs(dir_name)"
   ]
  },
  {
   "cell_type": "code",
   "execution_count": 12,
   "metadata": {
    "collapsed": true
   },
   "outputs": [],
   "source": [
    "model_dir_name = 'model_v1'\n",
    "if not os.path.exists(model_dir_name):\n",
    "    os.makedirs(model_dir_name)"
   ]
  },
  {
   "cell_type": "code",
   "execution_count": 13,
   "metadata": {
    "collapsed": true
   },
   "outputs": [],
   "source": [
    "def plot(samples):\n",
    "    fig = plt.figure(figsize=(4, 4))\n",
    "    gs = gridspec.GridSpec(4, 4)\n",
    "    gs.update(wspace=0.05, hspace=0.05)\n",
    "\n",
    "    for i, sample in enumerate(samples):\n",
    "        ax = plt.subplot(gs[i])\n",
    "        plt.axis('off')\n",
    "        ax.set_xticklabels([])\n",
    "        ax.set_yticklabels([])\n",
    "        ax.set_aspect('equal')\n",
    "        plt.imshow(sample.reshape(28, 28), cmap='Greys_r')\n",
    "\n",
    "    return fig"
   ]
  },
  {
   "cell_type": "code",
   "execution_count": 14,
   "metadata": {
    "collapsed": true
   },
   "outputs": [],
   "source": [
    "def sample_Z(m, n):\n",
    "    '''Uniform prior for G(Z)'''\n",
    "    return np.random.uniform(-1., 1., size=[m, n])"
   ]
  },
  {
   "cell_type": "code",
   "execution_count": null,
   "metadata": {
    "collapsed": true
   },
   "outputs": [],
   "source": [
    "sess = tf.Session()\n",
    "sess.run(tf.global_variables_initializer())"
   ]
  },
  {
   "cell_type": "code",
   "execution_count": null,
   "metadata": {},
   "outputs": [
    {
     "name": "stdout",
     "output_type": "stream",
     "text": [
      "Iter: 0\n",
      "D loss: 1.509\n",
      "G_loss: 0.5923\n",
      "\n"
     ]
    }
   ],
   "source": [
    "i = 0\n",
    "D_iter = 1 # Number of D iters per loop\n",
    "G_iter = 1 # Number of G iters per loop\n",
    "\n",
    "saver = tf.train.Saver()\n",
    "\n",
    "for it in range(int(1e4)):\n",
    "    if it % 1000 == 0:\n",
    "        samples = sess.run(Gz, feed_dict={Z: sample_Z(16, N_input)})\n",
    "\n",
    "        fig = plot(samples)\n",
    "        plt.savefig(dir_name + '/{}.png'.format(str(i).zfill(3)), bbox_inches='tight')\n",
    "        i += 1\n",
    "        plt.close(fig)\n",
    "\n",
    "    \n",
    "    for j in range(D_iter):\n",
    "        X_mb, _ = mnist.train.next_batch(mb_size)\n",
    "        X_ = (X_mb - .5) * 2 # scale to tanh range [-1, 1]\n",
    "        _, D_loss_curr = sess.run(\n",
    "            [D_solver, d_loss], \n",
    "            feed_dict={X: X_.reshape(mb_size,28,28,1), Z: sample_Z(mb_size, N_input)}\n",
    "        )\n",
    "    \n",
    "    for k in range(G_iter):\n",
    "        _, G_loss_curr = sess.run([G_solver, g_loss], feed_dict={Z: sample_Z(mb_size, N_input)})\n",
    "        \n",
    "    if it % 10000 == 0 and it != 0:\n",
    "            saver.save(sess,model_dir_name+'/model-'+str(i)+'.cptk')\n",
    "            print(\"Saved Model\")\n",
    "    \n",
    "\n",
    "    if it % 1000 == 0:\n",
    "        print('Iter: {}'.format(it))\n",
    "        print('D loss: {:.4}'. format(D_loss_curr))\n",
    "        print('G_loss: {:.4}'.format(G_loss_curr))\n",
    "        print()"
   ]
  },
  {
   "cell_type": "code",
   "execution_count": null,
   "metadata": {
    "collapsed": true
   },
   "outputs": [],
   "source": []
  }
 ],
 "metadata": {
  "kernelspec": {
   "display_name": "Python 3",
   "language": "python",
   "name": "python3"
  },
  "language_info": {
   "codemirror_mode": {
    "name": "ipython",
    "version": 3
   },
   "file_extension": ".py",
   "mimetype": "text/x-python",
   "name": "python",
   "nbconvert_exporter": "python",
   "pygments_lexer": "ipython3",
   "version": "3.4.3"
  }
 },
 "nbformat": 4,
 "nbformat_minor": 2
}
