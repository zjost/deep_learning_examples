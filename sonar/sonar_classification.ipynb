{
 "cells": [
  {
   "cell_type": "markdown",
   "metadata": {},
   "source": [
    "# Deep Learning Classification\n",
    "Loosely following [this](http://machinelearningmastery.com/binary-classification-tutorial-with-the-keras-deep-learning-library/) tutorial.\n",
    "\n",
    "Got data from [here](https://www.google.com/url?sa=t&rct=j&q=&esrc=s&source=web&cd=5&ved=0ahUKEwjLuYHC7JjTAhUI_mMKHY_KAnQQFgg3MAQ&url=http%3A%2F%2Fastro.temple.edu%2F~alan%2Fsonar_all-data.txt&usg=AFQjCNENngJvGLEh5PRL5NJbqO2HiBUodg&sig2=jzebV41YmPuZDoLP1hzZnw&bvm=bv.152174688,d.cGc)"
   ]
  },
  {
   "cell_type": "code",
   "execution_count": 1,
   "metadata": {
    "collapsed": false
   },
   "outputs": [
    {
     "name": "stderr",
     "output_type": "stream",
     "text": [
      "Using TensorFlow backend.\n"
     ]
    }
   ],
   "source": [
    "from time import time\n",
    "\n",
    "import numpy as np\n",
    "import pandas\n",
    "from keras.models import Sequential\n",
    "from keras.layers import Dense, Dropout\n",
    "from keras.wrappers.scikit_learn import KerasClassifier\n",
    "from sklearn.model_selection import cross_val_score\n",
    "from sklearn.preprocessing import LabelEncoder\n",
    "from sklearn.model_selection import StratifiedKFold\n",
    "from sklearn.preprocessing import StandardScaler\n",
    "from sklearn.pipeline import Pipeline\n",
    "from sklearn.metrics import roc_auc_score, roc_curve\n",
    "\n",
    "import matplotlib.pyplot as plt\n",
    "%matplotlib inline"
   ]
  },
  {
   "cell_type": "code",
   "execution_count": 2,
   "metadata": {
    "collapsed": true
   },
   "outputs": [],
   "source": [
    "seed = 42\n",
    "np.random.seed(seed)"
   ]
  },
  {
   "cell_type": "code",
   "execution_count": 3,
   "metadata": {
    "collapsed": false
   },
   "outputs": [],
   "source": [
    "# load dataset\n",
    "dataframe = pandas.read_csv(\"data/sonar_all-data.csv\", header=None)\n",
    "dataset = dataframe.values\n",
    "# split into input (X) and output (Y) variables\n",
    "X = dataset[:,0:60].astype(float)\n",
    "Y = dataset[:,60]"
   ]
  },
  {
   "cell_type": "code",
   "execution_count": 4,
   "metadata": {
    "collapsed": true
   },
   "outputs": [],
   "source": [
    "# encode class values as integers\n",
    "encoder = LabelEncoder()\n",
    "encoder.fit(Y)\n",
    "encoded_Y = encoder.transform(Y)"
   ]
  },
  {
   "cell_type": "code",
   "execution_count": 5,
   "metadata": {
    "collapsed": true
   },
   "outputs": [],
   "source": [
    "# 60 node baseline model\n",
    "def create_baseline():\n",
    "    # create model\n",
    "    model = Sequential()\n",
    "    model.add(Dense(60, input_dim=60, kernel_initializer='normal', activation='relu'))\n",
    "    model.add(Dense(1, kernel_initializer='normal', activation='sigmoid'))\n",
    "    # Compile model\n",
    "    model.compile(loss='binary_crossentropy', optimizer='adam', metrics=['accuracy'])\n",
    "    return model"
   ]
  },
  {
   "cell_type": "code",
   "execution_count": 6,
   "metadata": {
    "collapsed": true
   },
   "outputs": [],
   "source": [
    "# 30 node single layer\n",
    "def dim_reduction():\n",
    "    # create model\n",
    "    model = Sequential()\n",
    "    model.add(Dense(30, input_dim=60, kernel_initializer='normal', activation='relu'))\n",
    "    model.add(Dense(1, kernel_initializer='normal', activation='sigmoid'))\n",
    "    # Compile model\n",
    "    model.compile(loss='binary_crossentropy', optimizer='adam', metrics=['accuracy'])\n",
    "    return model"
   ]
  },
  {
   "cell_type": "code",
   "execution_count": 7,
   "metadata": {
    "collapsed": true
   },
   "outputs": [],
   "source": [
    "# 10 node double layer\n",
    "def double_ten():\n",
    "    # create model\n",
    "    model = Sequential()\n",
    "    model.add(Dense(10, input_dim=60, kernel_initializer='normal', activation='relu'))\n",
    "    model.add(Dense(10, kernel_initializer='normal', activation='relu'))\n",
    "    model.add(Dense(1, kernel_initializer='normal', activation='sigmoid'))\n",
    "    # Compile model\n",
    "    model.compile(loss='binary_crossentropy', optimizer='adam', metrics=['accuracy'])\n",
    "    return model"
   ]
  },
  {
   "cell_type": "code",
   "execution_count": 8,
   "metadata": {
    "collapsed": true
   },
   "outputs": [],
   "source": [
    "# 10 node double layer with dropout\n",
    "def double_ten_w_dropout():\n",
    "    # create model\n",
    "    model = Sequential()\n",
    "    model.add(Dense(10, input_dim=60, kernel_initializer='normal', activation='relu'))\n",
    "    model.add(Dropout(.25))\n",
    "    model.add(Dense(10, kernel_initializer='normal', activation='relu'))\n",
    "    model.add(Dropout(.25))\n",
    "    model.add(Dense(1, kernel_initializer='normal', activation='sigmoid'))\n",
    "    # Compile model\n",
    "    model.compile(loss='binary_crossentropy', optimizer='adam', metrics=['accuracy'])\n",
    "    return model"
   ]
  },
  {
   "cell_type": "code",
   "execution_count": 9,
   "metadata": {
    "collapsed": true
   },
   "outputs": [],
   "source": [
    "# 10 node double layer with dropout\n",
    "def double_thirty_w_dropout():\n",
    "    # create model\n",
    "    model = Sequential()\n",
    "    model.add(Dense(30, input_dim=60, kernel_initializer='normal', activation='relu'))\n",
    "    model.add(Dropout(.25))\n",
    "    model.add(Dense(30, kernel_initializer='normal', activation='relu'))\n",
    "    model.add(Dropout(.25))\n",
    "    model.add(Dense(1, kernel_initializer='normal', activation='sigmoid'))\n",
    "    # Compile model\n",
    "    model.compile(loss='binary_crossentropy', optimizer='adam', metrics=['accuracy'])\n",
    "    return model"
   ]
  },
  {
   "cell_type": "code",
   "execution_count": 10,
   "metadata": {
    "collapsed": true
   },
   "outputs": [],
   "source": [
    "def triple_thirty_w_dropout():\n",
    "    # create model\n",
    "    model = Sequential()\n",
    "    model.add(Dense(30, input_dim=60, kernel_initializer='normal', activation='relu'))\n",
    "    model.add(Dropout(.25))\n",
    "    model.add(Dense(30, kernel_initializer='normal', activation='relu'))\n",
    "    model.add(Dropout(.25))\n",
    "    model.add(Dense(30, kernel_initializer='normal', activation='relu'))\n",
    "    model.add(Dropout(.25))\n",
    "    model.add(Dense(1, kernel_initializer='normal', activation='sigmoid'))\n",
    "    # Compile model\n",
    "    model.compile(loss='binary_crossentropy', optimizer='adam', metrics=['accuracy'])\n",
    "    return model"
   ]
  },
  {
   "cell_type": "code",
   "execution_count": 11,
   "metadata": {
    "collapsed": true
   },
   "outputs": [],
   "source": [
    "def n_thirty_w_dropout(n):\n",
    "    # create model\n",
    "    model = Sequential()\n",
    "    model.add(Dense(30, input_dim=60, kernel_initializer='normal', activation='relu'))\n",
    "    model.add(Dropout(.25))\n",
    "    for i in range(n-1):\n",
    "        model.add(Dense(30, kernel_initializer='normal', activation='relu'))\n",
    "        model.add(Dropout(.25))\n",
    "    model.add(Dense(1, kernel_initializer='normal', activation='sigmoid'))\n",
    "    # Compile model\n",
    "    model.compile(loss='binary_crossentropy', optimizer='adam', metrics=['accuracy'])\n",
    "    return model"
   ]
  },
  {
   "cell_type": "code",
   "execution_count": 12,
   "metadata": {
    "collapsed": true
   },
   "outputs": [],
   "source": [
    "def five_thirty_w_dropout():\n",
    "    return n_thirty_w_dropout(5)"
   ]
  },
  {
   "cell_type": "code",
   "execution_count": 16,
   "metadata": {
    "collapsed": true
   },
   "outputs": [],
   "source": [
    "def run_model(build_fn, description):\n",
    "    # evaluate reduced dimension model with standardized dataset\n",
    "    t_start = time()\n",
    "    estimators = []\n",
    "    estimators.append(('standardize', StandardScaler()))\n",
    "    estimators.append(('mlp', KerasClassifier(build_fn=build_fn, epochs=100, batch_size=5, verbose=0)))\n",
    "    pipeline = Pipeline(estimators)\n",
    "    kfold = StratifiedKFold(n_splits=3, shuffle=True, random_state=seed)\n",
    "    results = cross_val_score(pipeline, X, encoded_Y, cv=kfold, \n",
    "                              scoring='roc_auc')\n",
    "    print(\"%s: auc=%.4f +/- %.4f)\" % (description, results.mean(), results.std()))\n",
    "    print(\"Train time: \", time()-t_start)"
   ]
  },
  {
   "cell_type": "code",
   "execution_count": 17,
   "metadata": {
    "collapsed": true
   },
   "outputs": [],
   "source": [
    "def plot_roc_curve(y_true, y_predict, label=None):\n",
    "    \"\"\"\n",
    "    A helper function to hold boilerplate for plotting\n",
    "    the ROC curve of a model.\n",
    "    If iterating over multiple lines, then pass a value\n",
    "    for 'label'\n",
    "    \"\"\"\n",
    "    fpr, tpr, thresholds = roc_curve(y_true, y_predict)\n",
    "    plt.plot(fpr, tpr, label=label)\n",
    "    plt.title('ROC curve', fontsize=16)\n",
    "    plt.xlabel('False Positive Rate', fontsize=14)\n",
    "    if label:\n",
    "        plt.legend(loc=4)\n",
    "    _ = plt.ylabel('True Positive Rate', fontsize=14)"
   ]
  },
  {
   "cell_type": "code",
   "execution_count": 18,
   "metadata": {
    "collapsed": false
   },
   "outputs": [
    {
     "name": "stdout",
     "output_type": "stream",
     "text": [
      "Baseline, single layer of 60 nodes: auc=0.9211 +/- 0.0057)\n",
      "Train time:  17.37608289718628\n"
     ]
    }
   ],
   "source": [
    "run_model(create_baseline, \"Baseline, single layer of 60 nodes\")"
   ]
  },
  {
   "cell_type": "code",
   "execution_count": 41,
   "metadata": {
    "collapsed": false
   },
   "outputs": [
    {
     "name": "stdout",
     "output_type": "stream",
     "text": [
      "Single layer of 30 nodes: 82.71% (2.25%)\n",
      "Train time:  29.889158010482788\n"
     ]
    }
   ],
   "source": [
    "run_model(dim_reduction, \"Single layer of 30 nodes\")"
   ]
  },
  {
   "cell_type": "code",
   "execution_count": 42,
   "metadata": {
    "collapsed": false
   },
   "outputs": [
    {
     "name": "stdout",
     "output_type": "stream",
     "text": [
      "Double layer of 10 nodes each: 81.73% (1.43%)\n",
      "Train time:  31.696619033813477\n"
     ]
    }
   ],
   "source": [
    "run_model(double_ten, 'Double layer of 10 nodes each')"
   ]
  },
  {
   "cell_type": "code",
   "execution_count": 43,
   "metadata": {
    "collapsed": false
   },
   "outputs": [
    {
     "name": "stdout",
     "output_type": "stream",
     "text": [
      "Double layer of 10 nodes each with .25 dropout: 81.73% (0.63%)\n",
      "Train time:  38.96178102493286\n"
     ]
    }
   ],
   "source": [
    "run_model(double_ten_w_dropout, \"Double layer of 10 nodes each with .25 dropout\")"
   ]
  },
  {
   "cell_type": "code",
   "execution_count": 45,
   "metadata": {
    "collapsed": false
   },
   "outputs": [
    {
     "name": "stdout",
     "output_type": "stream",
     "text": [
      "Double layer of 30 nodes each with .25 dropout: 81.73% (1.79%)\n",
      "Train time:  37.72720694541931\n"
     ]
    }
   ],
   "source": [
    "run_model(double_thirty_w_dropout, \"Double layer of 30 nodes each with .25 dropout\")"
   ]
  },
  {
   "cell_type": "code",
   "execution_count": 47,
   "metadata": {
    "collapsed": false
   },
   "outputs": [
    {
     "name": "stdout",
     "output_type": "stream",
     "text": [
      "Triple layer of 30 nodes each with .25 dropout: 82.70% (1.99%)\n",
      "Train time:  38.89444303512573\n"
     ]
    }
   ],
   "source": [
    "run_model(double_thirty_w_dropout, \"Triple layer of 30 nodes each with .25 dropout\")"
   ]
  },
  {
   "cell_type": "code",
   "execution_count": 89,
   "metadata": {
    "collapsed": false
   },
   "outputs": [
    {
     "name": "stdout",
     "output_type": "stream",
     "text": [
      "Five layers of 30 nodes each and 25% dropout: 84.13% (2.37%)\n",
      "Train time:  55.86919808387756\n"
     ]
    }
   ],
   "source": [
    "run_model(five_thirty_w_dropout, \"Five layers of 30 nodes each and 25% dropout\")"
   ]
  },
  {
   "cell_type": "markdown",
   "metadata": {},
   "source": [
    "## Sanity Check"
   ]
  },
  {
   "cell_type": "code",
   "execution_count": 67,
   "metadata": {
    "collapsed": true
   },
   "outputs": [],
   "source": [
    "from sklearn.model_selection import train_test_split"
   ]
  },
  {
   "cell_type": "code",
   "execution_count": 77,
   "metadata": {
    "collapsed": true
   },
   "outputs": [],
   "source": [
    "X_train, X_test, y_train, y_test = train_test_split(X, encoded_Y)"
   ]
  },
  {
   "cell_type": "code",
   "execution_count": 84,
   "metadata": {
    "collapsed": false
   },
   "outputs": [
    {
     "name": "stdout",
     "output_type": "stream",
     "text": [
      "Train time:  4.9598212242126465\n",
      "ROC AUC:  0.918639053254\n"
     ]
    }
   ],
   "source": [
    "# evaluate reduced dimension model with standardized dataset\n",
    "t_start = time()\n",
    "model = double_thirty_w_dropout()\n",
    "model.fit(X_train, y_train, epochs=100, verbose=False)\n",
    "y_pred = model.predict(X_test).reshape((X_test.shape[0],))\n",
    "#print(\"%s: %.2f%% (%.2f%%)\" % (\"The triple 30!\", results.mean()*100, results.std()*100))\n",
    "print(\"Train time: \", time()-t_start)\n",
    "print(\"ROC AUC: \", roc_auc_score(y_test, y_pred))\n",
    "plot_roc_curve(y_test, y_pred)"
   ]
  },
  {
   "cell_type": "code",
   "execution_count": 87,
   "metadata": {
    "collapsed": false
   },
   "outputs": [
    {
     "name": "stdout",
     "output_type": "stream",
     "text": [
      "Train time:  7.101886987686157\n",
      "ROC AUC:  0.949704142012\n"
     ]
    },
    {
     "data": {
      "image/png": "[encoded data removed]",
      "text/plain": [
       "<matplotlib.figure.Figure at 0x14597ed30>"
      ]
     },
     "metadata": {},
     "output_type": "display_data"
    }
   ],
   "source": [
    "# evaluate reduced dimension model with standardized dataset\n",
    "t_start = time()\n",
    "model = n_thirty_w_dropout(5)\n",
    "model.fit(X_train, y_train, epochs=100, verbose=False)\n",
    "y_pred = model.predict(X_test).reshape((X_test.shape[0],))\n",
    "#print(\"%s: %.2f%% (%.2f%%)\" % (\"The triple 30!\", results.mean()*100, results.std()*100))\n",
    "print(\"Train time: \", time()-t_start)\n",
    "print(\"ROC AUC: \", roc_auc_score(y_test, y_pred))\n",
    "plot_roc_curve(y_test, y_pred)"
   ]
  },
  {
   "cell_type": "code",
   "execution_count": null,
   "metadata": {
    "collapsed": true
   },
   "outputs": [],
   "source": []
  }
 ],
 "metadata": {
  "kernelspec": {
   "display_name": "Python 3",
   "language": "python",
   "name": "python3"
  },
  "language_info": {
   "codemirror_mode": {
    "name": "ipython",
    "version": 3
   },
   "file_extension": ".py",
   "mimetype": "text/x-python",
   "name": "python",
   "nbconvert_exporter": "python",
   "pygments_lexer": "ipython3",
   "version": "3.6.0"
  }
 },
 "nbformat": 4,
 "nbformat_minor": 2
}
